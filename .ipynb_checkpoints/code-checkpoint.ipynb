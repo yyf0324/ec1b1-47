{
 "cells": [
  {
   "cell_type": "markdown",
   "id": "59fc8ec9",
   "metadata": {},
   "source": [
    "## EC1B1 Group 47 Project"
   ]
  },
  {
   "cell_type": "code",
   "execution_count": null,
   "id": "8da19ae2",
   "metadata": {},
   "outputs": [],
   "source": []
  }
 ],
 "metadata": {
  "kernelspec": {
   "display_name": "Python 3 (ipykernel)",
   "language": "python",
   "name": "python3"
  },
  "language_info": {
   "codemirror_mode": {
    "name": "ipython",
    "version": 3
   },
   "file_extension": ".py",
   "mimetype": "text/x-python",
   "name": "python",
   "nbconvert_exporter": "python",
   "pygments_lexer": "ipython3",
   "version": "3.9.13"
  }
 },
 "nbformat": 4,
 "nbformat_minor": 5
}
